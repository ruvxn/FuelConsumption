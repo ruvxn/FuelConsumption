{
  "nbformat": 4,
  "nbformat_minor": 0,
  "metadata": {
    "colab": {
      "provenance": [],
      "authorship_tag": "ABX9TyOCOE4IFRgvgKzyRzCv0xlo",
      "include_colab_link": true
    },
    "kernelspec": {
      "name": "python3",
      "display_name": "Python 3"
    },
    "language_info": {
      "name": "python"
    }
  },
  "cells": [
    {
      "cell_type": "markdown",
      "metadata": {
        "id": "view-in-github",
        "colab_type": "text"
      },
      "source": [
        "<a href=\"https://colab.research.google.com/github/ruvxn/FuelConsumption/blob/main/LinearRegression_CO2.ipynb\" target=\"_parent\"><img src=\"https://colab.research.google.com/assets/colab-badge.svg\" alt=\"Open In Colab\"/></a>"
      ]
    },
    {
      "cell_type": "code",
      "execution_count": null,
      "metadata": {
        "id": "gIbZgEvGV1Jm"
      },
      "outputs": [],
      "source": [
        "!pip install numpy==2.2.0\n",
        "!pip install pandas==2.2.3\n",
        "!pip install scikit-learn==1.6.0\n",
        "!pip install matplotlib==3.9.3"
      ]
    }
  ]
}